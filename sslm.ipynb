{
 "cells": [
  {
   "cell_type": "code",
   "execution_count": 9,
   "metadata": {},
   "outputs": [
    {
     "name": "stdout",
     "output_type": "stream",
     "text": [
      "[DEBUG] input_ids shape: torch.Size([2, 6])\n",
      "[DEBUG] Embedded input shape: torch.Size([2, 6, 128])\n",
      "[DEBUG] Projected control vector shape: torch.Size([2, 1, 128])\n",
      "[DEBUG] After adding control vector: torch.Size([2, 6, 128])\n",
      "[DEBUG] After Transformer encoder: torch.Size([2, 6, 128])\n",
      "[DEBUG] Output logits shape: torch.Size([2, 6, 1000])\n"
     ]
    }
   ],
   "source": [
    "import torch\n",
    "import torch.nn as nn \n",
    "import torch.nn.functional as F \n",
    "\n",
    "class SelfSteeringTransformer(nn.Module):\n",
    "    def __init__(self, vocab_size, embed_dim=128, num_heads=4, control_dim=8):\n",
    "        super().__init__()\n",
    "        self.embed = nn.Embedding(vocab_size, embed_dim)\n",
    "\n",
    "        self.control_proj = nn.Linear(control_dim, embed_dim)\n",
    "\n",
    "        self.attn = nn.TransformerEncoderLayer(d_model=embed_dim, nhead=num_heads, batch_first=True)\n",
    "\n",
    "        self.encoder = nn.TransformerEncoder(self.attn, num_layers=2)\n",
    "\n",
    "        self.output = nn.Linear(embed_dim, vocab_size)\n",
    "\n",
    "    def forward(self, input_ids, control_vector):\n",
    "        print(f\"[DEBUG] input_ids shape: {input_ids.shape}\")  # [B, T]\n",
    "        x = self.embed(input_ids)  # [B, T, D]\n",
    "        print(f\"[DEBUG] Embedded input shape: {x.shape}\") \n",
    "\n",
    "        control_embed = self.control_proj(control_vector).unsqueeze(1)  # [B, 1, D]\n",
    "        print(f\"[DEBUG] Projected control vector shape: {control_embed.shape}\")\n",
    "\n",
    "        x = x + control_embed  # [B, T, D]\n",
    "        print(f\"[DEBUG] After adding control vector: {x.shape}\")\n",
    "\n",
    "        x = self.encoder(x)  # [B, T, D]\n",
    "        print(f\"[DEBUG] After Transformer encoder: {x.shape}\")\n",
    "\n",
    "        logits = self.output(x)  # [B, T, V]\n",
    "        print(f\"[DEBUG] Output logits shape: {logits.shape}\")\n",
    "\n",
    "        return logits \n",
    "\n",
    "# Setup\n",
    "batch_size = 2\n",
    "seq_len = 6 \n",
    "vocab_size = 1000\n",
    "control_dim = 8\n",
    "\n",
    "model = SelfSteeringTransformer(vocab_size=vocab_size, control_dim=control_dim)\n",
    "\n",
    "input_ids = torch.randint(0, vocab_size, (batch_size, seq_len))\n",
    "control_signal = torch.randn(batch_size, control_dim)\n",
    "\n",
    "logits = model(input_ids, control_signal)\n"
   ]
  },
  {
   "cell_type": "markdown",
   "metadata": {},
   "source": [
    "# Self-Steering Langugage Model\n",
    "\n",
    "* a neural network that gegnerates or processes sequences but it also takes an external control signal to influence or 'steer'how it behave\n",
    "\n",
    "* controlled text generation\n",
    "* conditional decoding (like generating positive / negative sentiment)\n",
    "* style transfer\n",
    "* experimenting with fine-grained control of transformers"
   ]
  }
 ],
 "metadata": {
  "kernelspec": {
   "display_name": "Python 3 (ipykernel)",
   "language": "python",
   "name": "python3"
  },
  "language_info": {
   "codemirror_mode": {
    "name": "ipython",
    "version": 3
   },
   "file_extension": ".py",
   "mimetype": "text/x-python",
   "name": "python",
   "nbconvert_exporter": "python",
   "pygments_lexer": "ipython3",
   "version": "3.11.11"
  }
 },
 "nbformat": 4,
 "nbformat_minor": 2
}
