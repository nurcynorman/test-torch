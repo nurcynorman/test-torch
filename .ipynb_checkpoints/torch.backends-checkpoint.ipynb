{
 "cells": [
  {
   "cell_type": "code",
   "execution_count": 5,
   "id": "87a6ad63-f02b-469b-8ce1-81a220396f09",
   "metadata": {},
   "outputs": [
    {
     "name": "stdout",
     "output_type": "stream",
     "text": [
      "torch.backends availability and settings:\n",
      "\n",
      "CPU backend:\n",
      "<module 'torch.backends.cpu' from 'C:\\\\Users\\\\fadzw\\\\Downloads\\\\Trash\\\\test-torch\\\\venv\\\\Lib\\\\site-packages\\\\torch\\\\backends\\\\cpu\\\\__init__.py'>\n",
      "\n",
      "CUDA backend:\n",
      "False\n",
      "\n",
      "cuDNN backend:\n",
      "Enabled: True\n",
      "Available: False\n",
      "Version: None\n",
      "\n",
      "cuSparseLt backend:\n",
      "<module 'torch.backends.cusparselt' from 'C:\\\\Users\\\\fadzw\\\\Downloads\\\\Trash\\\\test-torch\\\\venv\\\\Lib\\\\site-packages\\\\torch\\\\backends\\\\cusparselt\\\\__init__.py'>\n",
      "\n",
      "MHA (Memory Efficient Attention):\n",
      "<module 'torch.backends.mha' from 'C:\\\\Users\\\\fadzw\\\\Downloads\\\\Trash\\\\test-torch\\\\venv\\\\Lib\\\\site-packages\\\\torch\\\\backends\\\\mha\\\\__init__.py'>\n",
      "\n",
      "MPS (Metal Performance Shaders for Apple):\n",
      "Is built: False\n",
      "\n",
      "MKL backend:\n",
      "<module 'torch.backends.mkl' from 'C:\\\\Users\\\\fadzw\\\\Downloads\\\\Trash\\\\test-torch\\\\venv\\\\Lib\\\\site-packages\\\\torch\\\\backends\\\\mkl\\\\__init__.py'>\n",
      "\n",
      "MKLDNN backend:\n",
      "Enabled: True\n",
      "\n",
      "NNPACK backend:\n",
      "Enabled: <module 'torch.backends.nnpack' from 'C:\\\\Users\\\\fadzw\\\\Downloads\\\\Trash\\\\test-torch\\\\venv\\\\Lib\\\\site-packages\\\\torch\\\\backends\\\\nnpack\\\\__init__.py'>\n",
      "\n",
      "OpenMP backend:\n",
      "<module 'torch.backends.openmp' from 'C:\\\\Users\\\\fadzw\\\\Downloads\\\\Trash\\\\test-torch\\\\venv\\\\Lib\\\\site-packages\\\\torch\\\\backends\\\\openmp\\\\__init__.py'>\n"
     ]
    }
   ],
   "source": [
    "import torch\n",
    "\n",
    "print(\"torch.backends availability and settings:\")\n",
    "\n",
    "print(\"\\nCPU backend:\")\n",
    "print(torch.backends.cpu)\n",
    "\n",
    "print(\"\\nCUDA backend:\")\n",
    "print(torch.backends.cuda.is_built())  # returns True if CUDA is available\n",
    "\n",
    "print(\"\\ncuDNN backend:\")\n",
    "print(f\"Enabled: {torch.backends.cudnn.enabled}\")\n",
    "print(f\"Available: {torch.backends.cudnn.is_available()}\")\n",
    "print(f\"Version: {torch.backends.cudnn.version()}\")\n",
    "\n",
    "print(\"\\ncuSparseLt backend:\")\n",
    "print(torch.backends.cusparselt)\n",
    "\n",
    "print(\"\\nMHA (Memory Efficient Attention):\")\n",
    "print(torch.backends.mha)\n",
    "\n",
    "print(\"\\nMPS (Metal Performance Shaders for Apple):\")\n",
    "print(f\"Is built: {torch.backends.mps.is_built()}\") if hasattr(torch.backends, 'mps') else print(\"MPS not available\")\n",
    "\n",
    "print(\"\\nMKL backend:\")\n",
    "print(torch.backends.mkl)\n",
    "\n",
    "print(\"\\nMKLDNN backend:\")\n",
    "print(f\"Enabled: {torch.backends.mkldnn.enabled}\")\n",
    "\n",
    "print(\"\\nNNPACK backend:\")\n",
    "print(f\"Enabled: {torch.backends.nnpack}\")\n",
    "\n",
    "print(\"\\nOpenMP backend:\")\n",
    "print(torch.backends.openmp)\n",
    "\n"
   ]
  }
 ],
 "metadata": {
  "kernelspec": {
   "display_name": "Python 3 (ipykernel)",
   "language": "python",
   "name": "python3"
  },
  "language_info": {
   "codemirror_mode": {
    "name": "ipython",
    "version": 3
   },
   "file_extension": ".py",
   "mimetype": "text/x-python",
   "name": "python",
   "nbconvert_exporter": "python",
   "pygments_lexer": "ipython3",
   "version": "3.11.11"
  }
 },
 "nbformat": 4,
 "nbformat_minor": 5
}
