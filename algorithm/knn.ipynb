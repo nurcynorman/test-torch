{
 "cells": [
  {
   "cell_type": "code",
   "execution_count": null,
   "metadata": {},
   "outputs": [],
   "source": [
    "# refereces https://medium.com/we-talk-data/how-can-i-use-knn-and-random-forest-models-in-pytorch-6083f5ef370a\n",
    "\n",
    "\n",
    "\n",
    "import torch \n",
    "from torch.utils.data import DataLoader , TensorDataset\n",
    "from sklearn.datasets import load_iris \n",
    "from sklearn.model_selection import train_test_split\n",
    "\n",
    "data = load_iris()\n",
    "X,y   = data.data, data,target \n",
    "\n",
    "device = torch.device(\"cude\" if torch.cuda.isavailable() else \"cpu\")\n",
    "\n",
    "X_train, X_test, y_train, y_test = train_test_split(X,y, test_size=0.2, random_state=42)\n",
    "\n",
    "X_train = torch.tensor(X_train, dtype=torch.float32)\n",
    "y_train = torch.tensor(y_train, dtype=torch.long)\n",
    "X_test = torch.tensor(X_test, dtype=torch.float32)\n",
    "y_test = torch.tensor(y_test, dtype=torch.long)\n",
    "\n",
    "train_loader = DataLoader(TensorDataset(X_train,y_train), batch_size=16, shuffle=True)\n",
    "test_loader = DataLoader(TensorDataset(X_test, y_test, batch_size=16))\n",
    "\n",
    "class KNNClassifier:\n",
    "    def __init__(self,k=3):\n",
    "        self.k = k\n",
    "        self.X_train = None \n",
    "        self.y_train = None \n",
    "\n",
    "    def fit(self,X_train, y_train):\n",
    "        self.X_train = X_train # store training data for distance calculation\n",
    "        self.y_train = y_train\n",
    "\n",
    "    def predict(self, X):\n",
    "        distances = torch.cdist(X,self.X_train) #calculate eucliedean distance \n",
    "        knn_indices = distances.topk(self.k, largest =False).indices #get indices\n",
    "        knn_labels = self.y_train[knn_indices] # reterieve labels of k nearest neighbors\n",
    "        predictions = torch.mode(knn_labels, dim=1).values # majority voting : find most common label in neghbors\n",
    "        return predictions\n",
    "\n",
    "knn = KNNClassifier(k=3) # initialise the train model\n",
    "knn.fit(X_train, y_train)\n",
    "predictions = knn.predict(X_test) # predict om test set\n",
    "\n",
    "accuracy = (predictions == y_test).float().mean() #calcualte accuracy\n",
    "print(f'Test Accuracy {accuracy:.4f}')\n"
   ]
  }
 ],
 "metadata": {
  "language_info": {
   "name": "python"
  }
 },
 "nbformat": 4,
 "nbformat_minor": 2
}
